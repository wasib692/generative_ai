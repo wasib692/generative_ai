{
 "cells": [
  {
   "cell_type": "code",
   "execution_count": null,
   "metadata": {},
   "outputs": [],
   "source": []
  },
  {
   "cell_type": "code",
   "execution_count": null,
   "metadata": {},
   "outputs": [
    {
     "name": "stdout",
     "output_type": "stream",
     "text": [
      "What is Gen AI?\n",
      "\n",
      "stream_graph_updates...\n",
      "chatbot...\n",
      "[HumanMessage(content='What is Gen AI?', additional_kwargs={}, response_metadata={}, id='ad9063fe-2200-47ae-a4fa-ed1af930c273')]\n",
      "LLM Response: content=\"Gen AI, or Generative Artificial Intelligence, refers to a type of artificial intelligence that can create new content, such as text, images, music, or video, that has not been seen before. It uses machine learning models, such as generative adversarial networks (GANs) or transformer models, to generate this content by learning patterns and structures from large datasets.\\n\\nGenerative AI can be used for a variety of applications, such as creating realistic images for use in video games or movies, generating personalized product recommendations based on user preferences, or even composing music. However, it also raises ethical concerns, such as the potential for misuse in generating deepfakes or other forms of disinformation.\\n\\nIt's important to note that Gen AI is still an evolving field, and while it has made significant progress in recent years, it is not yet perfect and can still produce outputs that are nonsensical or of low quality. Nonetheless, it has the potential to transform various industries and has already been used in various applications.\" additional_kwargs={} response_metadata={'token_usage': {'prompt_tokens': 13, 'total_tokens': 230, 'completion_tokens': 217}, 'model_name': 'mistral-small', 'model': 'mistral-small', 'finish_reason': 'stop'} id='run-7a863488-95b4-4719-a865-55e7c8675d9f-0' usage_metadata={'input_tokens': 13, 'output_tokens': 217, 'total_tokens': 230}\n",
      "\n",
      "Event: {'chatbot': {'messages': [AIMessage(content=\"Gen AI, or Generative Artificial Intelligence, refers to a type of artificial intelligence that can create new content, such as text, images, music, or video, that has not been seen before. It uses machine learning models, such as generative adversarial networks (GANs) or transformer models, to generate this content by learning patterns and structures from large datasets.\\n\\nGenerative AI can be used for a variety of applications, such as creating realistic images for use in video games or movies, generating personalized product recommendations based on user preferences, or even composing music. However, it also raises ethical concerns, such as the potential for misuse in generating deepfakes or other forms of disinformation.\\n\\nIt's important to note that Gen AI is still an evolving field, and while it has made significant progress in recent years, it is not yet perfect and can still produce outputs that are nonsensical or of low quality. Nonetheless, it has the potential to transform various industries and has already been used in various applications.\", additional_kwargs={}, response_metadata={'token_usage': {'prompt_tokens': 13, 'total_tokens': 230, 'completion_tokens': 217}, 'model_name': 'mistral-small', 'model': 'mistral-small', 'finish_reason': 'stop'}, id='run-7a863488-95b4-4719-a865-55e7c8675d9f-0', usage_metadata={'input_tokens': 13, 'output_tokens': 217, 'total_tokens': 230})]}}\n",
      "\n",
      "Value: {'messages': [AIMessage(content=\"Gen AI, or Generative Artificial Intelligence, refers to a type of artificial intelligence that can create new content, such as text, images, music, or video, that has not been seen before. It uses machine learning models, such as generative adversarial networks (GANs) or transformer models, to generate this content by learning patterns and structures from large datasets.\\n\\nGenerative AI can be used for a variety of applications, such as creating realistic images for use in video games or movies, generating personalized product recommendations based on user preferences, or even composing music. However, it also raises ethical concerns, such as the potential for misuse in generating deepfakes or other forms of disinformation.\\n\\nIt's important to note that Gen AI is still an evolving field, and while it has made significant progress in recent years, it is not yet perfect and can still produce outputs that are nonsensical or of low quality. Nonetheless, it has the potential to transform various industries and has already been used in various applications.\", additional_kwargs={}, response_metadata={'token_usage': {'prompt_tokens': 13, 'total_tokens': 230, 'completion_tokens': 217}, 'model_name': 'mistral-small', 'model': 'mistral-small', 'finish_reason': 'stop'}, id='run-7a863488-95b4-4719-a865-55e7c8675d9f-0', usage_metadata={'input_tokens': 13, 'output_tokens': 217, 'total_tokens': 230})]}\n",
      "\n",
      "Assistant: Gen AI, or Generative Artificial Intelligence, refers to a type of artificial intelligence that can create new content, such as text, images, music, or video, that has not been seen before. It uses machine learning models, such as generative adversarial networks (GANs) or transformer models, to generate this content by learning patterns and structures from large datasets.\n",
      "\n",
      "Generative AI can be used for a variety of applications, such as creating realistic images for use in video games or movies, generating personalized product recommendations based on user preferences, or even composing music. However, it also raises ethical concerns, such as the potential for misuse in generating deepfakes or other forms of disinformation.\n",
      "\n",
      "It's important to note that Gen AI is still an evolving field, and while it has made significant progress in recent years, it is not yet perfect and can still produce outputs that are nonsensical or of low quality. Nonetheless, it has the potential to transform various industries and has already been used in various applications.\n",
      "What is Data Science?\n",
      "\n",
      "stream_graph_updates...\n",
      "chatbot...\n",
      "[HumanMessage(content='What is Data Science?', additional_kwargs={}, response_metadata={}, id='9c248ba4-c460-4c88-95b9-e214e971f915')]\n",
      "LLM Response: content='Data science is a multidisciplinary field that uses scientific methods, processes, algorithms, and systems to extract knowledge and insights from structured and unstructured data. It involves techniques and theories drawn from many fields within the context of mathematics, statistics, computer science, and information science. Data science is used to make decisions and predictions by analyzing and interpreting complex digital data.\\n\\nThe data science process typically involves:\\n\\n1. Defining a question or problem\\n2. Collecting and cleaning data\\n3. Exploring and analyzing the data\\n4. Modeling and predicting outcomes\\n5. Interpreting and communicating results\\n\\nData scientists use a variety of tools and techniques, including machine learning, artificial intelligence, predictive modeling, cluster analysis, data mining, visualization, and statistical analysis to extract insights from data.\\n\\nData science has applications in many industries, including healthcare, finance, retail, manufacturing, and government, and is used to improve decision-making, optimize processes, and drive innovation.' additional_kwargs={} response_metadata={'token_usage': {'prompt_tokens': 13, 'total_tokens': 228, 'completion_tokens': 215}, 'model_name': 'mistral-small', 'model': 'mistral-small', 'finish_reason': 'stop'} id='run-56ed4c5c-2d36-4892-8f03-ecae56364518-0' usage_metadata={'input_tokens': 13, 'output_tokens': 215, 'total_tokens': 228}\n",
      "\n",
      "Event: {'chatbot': {'messages': [AIMessage(content='Data science is a multidisciplinary field that uses scientific methods, processes, algorithms, and systems to extract knowledge and insights from structured and unstructured data. It involves techniques and theories drawn from many fields within the context of mathematics, statistics, computer science, and information science. Data science is used to make decisions and predictions by analyzing and interpreting complex digital data.\\n\\nThe data science process typically involves:\\n\\n1. Defining a question or problem\\n2. Collecting and cleaning data\\n3. Exploring and analyzing the data\\n4. Modeling and predicting outcomes\\n5. Interpreting and communicating results\\n\\nData scientists use a variety of tools and techniques, including machine learning, artificial intelligence, predictive modeling, cluster analysis, data mining, visualization, and statistical analysis to extract insights from data.\\n\\nData science has applications in many industries, including healthcare, finance, retail, manufacturing, and government, and is used to improve decision-making, optimize processes, and drive innovation.', additional_kwargs={}, response_metadata={'token_usage': {'prompt_tokens': 13, 'total_tokens': 228, 'completion_tokens': 215}, 'model_name': 'mistral-small', 'model': 'mistral-small', 'finish_reason': 'stop'}, id='run-56ed4c5c-2d36-4892-8f03-ecae56364518-0', usage_metadata={'input_tokens': 13, 'output_tokens': 215, 'total_tokens': 228})]}}\n",
      "\n",
      "Value: {'messages': [AIMessage(content='Data science is a multidisciplinary field that uses scientific methods, processes, algorithms, and systems to extract knowledge and insights from structured and unstructured data. It involves techniques and theories drawn from many fields within the context of mathematics, statistics, computer science, and information science. Data science is used to make decisions and predictions by analyzing and interpreting complex digital data.\\n\\nThe data science process typically involves:\\n\\n1. Defining a question or problem\\n2. Collecting and cleaning data\\n3. Exploring and analyzing the data\\n4. Modeling and predicting outcomes\\n5. Interpreting and communicating results\\n\\nData scientists use a variety of tools and techniques, including machine learning, artificial intelligence, predictive modeling, cluster analysis, data mining, visualization, and statistical analysis to extract insights from data.\\n\\nData science has applications in many industries, including healthcare, finance, retail, manufacturing, and government, and is used to improve decision-making, optimize processes, and drive innovation.', additional_kwargs={}, response_metadata={'token_usage': {'prompt_tokens': 13, 'total_tokens': 228, 'completion_tokens': 215}, 'model_name': 'mistral-small', 'model': 'mistral-small', 'finish_reason': 'stop'}, id='run-56ed4c5c-2d36-4892-8f03-ecae56364518-0', usage_metadata={'input_tokens': 13, 'output_tokens': 215, 'total_tokens': 228})]}\n",
      "\n",
      "Assistant: Data science is a multidisciplinary field that uses scientific methods, processes, algorithms, and systems to extract knowledge and insights from structured and unstructured data. It involves techniques and theories drawn from many fields within the context of mathematics, statistics, computer science, and information science. Data science is used to make decisions and predictions by analyzing and interpreting complex digital data.\n",
      "\n",
      "The data science process typically involves:\n",
      "\n",
      "1. Defining a question or problem\n",
      "2. Collecting and cleaning data\n",
      "3. Exploring and analyzing the data\n",
      "4. Modeling and predicting outcomes\n",
      "5. Interpreting and communicating results\n",
      "\n",
      "Data scientists use a variety of tools and techniques, including machine learning, artificial intelligence, predictive modeling, cluster analysis, data mining, visualization, and statistical analysis to extract insights from data.\n",
      "\n",
      "Data science has applications in many industries, including healthcare, finance, retail, manufacturing, and government, and is used to improve decision-making, optimize processes, and drive innovation.\n"
     ]
    }
   ],
   "source": [
    "from typing import Annotated\n",
    "from typing_extensions import TypedDict\n",
    "from langgraph.graph import StateGraph, START, END\n",
    "from langgraph.graph.message import add_messages\n",
    "from langchain_mistralai.chat_models import ChatMistralAI\n",
    "\n",
    "\n",
    "# Define state\n",
    "class State(TypedDict):\n",
    "    \"\"\"\n",
    "    Messages have the type \"list\". The `add_messages` function\n",
    "    in the annotation defines how this state key should be updated\n",
    "    (in this case, it appends messages to the list, rather than overwriting them)\n",
    "    \"\"\"\n",
    "\n",
    "    messages: Annotated[list, add_messages]\n",
    "\n",
    "# Initialize StateGraph\n",
    "graph_builder = StateGraph(State)\n",
    "\n",
    "# Initializing LLM\n",
    "llm = ChatMistralAI(mistral_api_key='')\n",
    "\n",
    "\n",
    "# define chatbot\n",
    "def chatbot(state: State):\n",
    "    print(\"chatbot...\")\n",
    "    print(state[\"messages\"])\n",
    "    response=llm.invoke(state[\"messages\"])\n",
    "    print(f\"LLM Response: {response}\\n\")\n",
    "    return {\"messages\": [response]}\n",
    "\n",
    "\"\"\"\n",
    "-The first argument is the unique node name\n",
    "-The second argument is the function or object that will be called whenever the node is used.\n",
    "\"\"\"\n",
    "graph_builder.add_node(\"chatbot\", chatbot)\n",
    "graph_builder.add_edge(START, \"chatbot\")\n",
    "graph_builder.add_edge(\"chatbot\", END)\n",
    "\n",
    "# compile the graph\n",
    "graph = graph_builder.compile()\n",
    "\n",
    "\n",
    "# stream updates\n",
    "def stream_graph_updates(user_input: str):\n",
    "    print('stream_graph_updates...')\n",
    "    for event in graph.stream({\"messages\": [{\"role\": \"user\", \"content\": user_input}]}):\n",
    "        print(f\"Event: {event}\\n\")\n",
    "        for value in event.values():\n",
    "            print(f\"Value: {value}\\n\")\n",
    "            print(\"Assistant:\", value[\"messages\"][-1].content)\n",
    "\n",
    "\n",
    "for question in ['What is Gen AI?','What is Data Science?']:\n",
    "    print(f\"{question}\\n\")\n",
    "    stream_graph_updates(question)"
   ]
  },
  {
   "cell_type": "code",
   "execution_count": 12,
   "metadata": {},
   "outputs": [
    {
     "data": {
      "image/png": "[encoded data removed]",
      "text/plain": [
       "<IPython.core.display.Image object>"
      ]
     },
     "metadata": {},
     "output_type": "display_data"
    }
   ],
   "source": [
    "from IPython.display import Image, display\n",
    "\n",
    "try:\n",
    "    display(Image(graph.get_graph().draw_mermaid_png()))\n",
    "except Exception:\n",
    "    # This requires some extra dependencies and is optional\n",
    "    pass"
   ]
  },
  {
   "cell_type": "code",
   "execution_count": 8,
   "metadata": {},
   "outputs": [],
   "source": [
    "# while True:\n",
    "#     try:\n",
    "#         user_input = input(\"User: \")\n",
    "#         if user_input.lower() in [\"quit\", \"exit\", \"q\"]:\n",
    "#             print(\"Goodbye!\")\n",
    "#             break\n",
    "\n",
    "#         stream_graph_updates(user_input)\n",
    "#     except:\n",
    "#         # fallback if input() is not available\n",
    "#         user_input = \"What do you know about LangGraph?\"\n",
    "#         print(\"User: \" + user_input)\n",
    "#         stream_graph_updates(user_input)\n",
    "#         break"
   ]
  }
 ],
 "metadata": {
  "kernelspec": {
   "display_name": "Python 3",
   "language": "python",
   "name": "python3"
  },
  "language_info": {
   "codemirror_mode": {
    "name": "ipython",
    "version": 3
   },
   "file_extension": ".py",
   "mimetype": "text/x-python",
   "name": "python",
   "nbconvert_exporter": "python",
   "pygments_lexer": "ipython3",
   "version": "3.10.16"
  }
 },
 "nbformat": 4,
 "nbformat_minor": 2
}
