{
 "cells": [
  {
   "cell_type": "markdown",
   "metadata": {},
   "source": [
    "Web Search Agent"
   ]
  },
  {
   "cell_type": "code",
   "execution_count": null,
   "metadata": {},
   "outputs": [],
   "source": [
    "from langchain.agents import initialize_agent,Tool\n",
    "from langchain_community.tools import DuckDuckGoSearchRun"
   ]
  },
  {
   "cell_type": "code",
   "execution_count": 9,
   "metadata": {},
   "outputs": [
    {
     "name": "stderr",
     "output_type": "stream",
     "text": [
      "c:\\Users\\Wasib\\miniconda3\\envs\\gen_ai\\lib\\site-packages\\langchain_community\\utilities\\duckduckgo_search.py:64: UserWarning: backend='api' is deprecated, using backend='auto'\n",
      "  ddgs_gen = ddgs.text(\n"
     ]
    },
    {
     "data": {
      "text/plain": [
       "'The White House, official residence of the president of the United States, in July 2008. The president of the United States is the head of state and head of government of the United States, [1] indirectly elected to a four-year term via the Electoral College. [2] Under the U.S. Constitution, the officeholder leads the executive branch of the federal government and is the commander-in-chief of ... Obama\\'s father, Barack Obama, Sr., was a teenage goatherd in rural Kenya, won a scholarship to study in the United States, and eventually became a senior economist in the Kenyan government.Obama\\'s mother, S. Ann Dunham, grew up in Kansas, Texas, and Washington state before her family settled in Honolulu.In 1960 she and Barack Sr. met in a Russian language class at the University of Hawaii ... The Irish Sun, It\\'s a fake Barack Obama\\'s brother posts forged document he claims is ex-president\\'s \\'Kenyan birth certificate,\\' March 11, 2017 Salon, Orly Taitz is at it again , Sept. 4, 2009 Born on August 4, 1961, in Honolulu, Hawaii, Obama is the first president born outside the continental United States. His full name is Barack Hussein Obama II, named after his father. Obama\\'s mother, Ann Dunham, was from Kansas, while his father, Barack Obama Sr., hailed from Kenya. Claims that the former US First Lady, Michelle Obama, is a man, are recirculating on social media, with one post on X, formerly Twitter, viewed more than 6.9 million times.. Posts have also been shared to Facebook, claiming her \"ex-boyfriend David Upchurch has come forward to reveal that \\'she\\' is actually a man named Michael Robinson and only became \\'Michelle\\' after meeting Barack ...'"
      ]
     },
     "execution_count": 9,
     "metadata": {},
     "output_type": "execute_result"
    }
   ],
   "source": [
    "search = DuckDuckGoSearchRun(output_format=\"list\")\n",
    "\n",
    "search.invoke(\"Obama's first name?\")"
   ]
  },
  {
   "cell_type": "code",
   "execution_count": 10,
   "metadata": {},
   "outputs": [],
   "source": [
    "search_tool=Tool(name='DuckDuckGo Search',func=DuckDuckGoSearchRun().run,\n",
    "                 description=\"Use this tool to perform web searches using DuckDuckGo.\")"
   ]
  },
  {
   "cell_type": "code",
   "execution_count": 20,
   "metadata": {},
   "outputs": [],
   "source": [
    "tools=[Tool(name=\"Search\",func=search_tool.run,description=\"Use this to perform web searches.\")]\n",
    "tools=[search_tool]"
   ]
  },
  {
   "cell_type": "code",
   "execution_count": 21,
   "metadata": {},
   "outputs": [
    {
     "data": {
      "text/plain": [
       "Ollama(model='llama3.2:1b')"
      ]
     },
     "execution_count": 21,
     "metadata": {},
     "output_type": "execute_result"
    }
   ],
   "source": [
    "from langchain_community.llms import Ollama\n",
    "## Load Ollama LAMA2 LLM model\n",
    "llm=Ollama(model=\"llama3.2:1b\")\n",
    "llm"
   ]
  },
  {
   "cell_type": "code",
   "execution_count": 22,
   "metadata": {},
   "outputs": [],
   "source": [
    "agent=initialize_agent(tools,llm,agent='zero-shot-react-description',verbose=True,handle_parsing_errors=True)"
   ]
  },
  {
   "cell_type": "code",
   "execution_count": 23,
   "metadata": {},
   "outputs": [
    {
     "name": "stdout",
     "output_type": "stream",
     "text": [
      "\n",
      "\n",
      "\u001b[1m> Entering new AgentExecutor chain...\u001b[0m\n",
      "\u001b[32;1m\u001b[1;3mQuestion: What are the top trending movies of this week\n",
      "Thought: To perform a web search using DuckDuckGo, I can use their API to fetch the current trending movies. Here's an example code snippet:\n",
      "Action: Use DuckDuckGo Search\n",
      "Input: `https://api.duckduckgo.com/?q=top+trending+movies+this+week`\u001b[0m\n",
      "Observation: Invalid Format: Missing 'Action Input:' after 'Action:'\n",
      "Thought:\u001b[32;1m\u001b[1;3mQuestion: What are the top trending movies of this week\n",
      "Thought: To perform a web search using DuckDuckGo, I can use their API to fetch the current trending movies. Here's an example code snippet:\n",
      "Action: Use DuckDuckGo Search\n",
      "Input: `https://api.duckduckgo.com/?q=top+trending+movies+this+week`\u001b[0m\n",
      "Observation: Invalid Format: Missing 'Action Input:' after 'Action:'\n",
      "Thought:\u001b[32;1m\u001b[1;3mQuestion: What are the top trending movies of this week\n",
      "Thought: To perform a web search using DuckDuckGo, I can use their API to fetch the current trending movies. Here's an example code snippet:\n",
      "Action: Use DuckDuckGo Search\n",
      "Input: `https://api.duckduckgo.com/?q=top+trending+movies+this+week`\u001b[0m\n",
      "Observation: Invalid Format: Missing 'Action Input:' after 'Action:'\n",
      "Thought:\u001b[32;1m\u001b[1;3mQuestion: What are the top trending movies of this week\n",
      "Thought:To perform a web search using DuckDuckGo, I can use their API to fetch the current trending movies. Here's an example code snippet:\n",
      "Action: Use DuckDuckGo Search\n",
      "Input: `https://api.duckduckgo.com/?q=top+trending+movies+this+week`\u001b[0m\n",
      "Observation: Invalid Format: Missing 'Action Input:' after 'Action:'\n",
      "Thought:\u001b[32;1m\u001b[1;3mQuestion: What are the top trending movies of this week\n",
      "Thought:To perform a web search using DuckDuckGo, I can use their API to fetch the current trending movies. Here's an example code snippet:\n",
      "Action: Use DuckDuckGo Search\n",
      "Input: `https://api.duckduckgo.com/?q=top+trending+movies+this+week`\u001b[0m\n",
      "Observation: Invalid Format: Missing 'Action Input:' after 'Action:'\n",
      "Thought:\u001b[32;1m\u001b[1;3mQuestion: What are the top trending movies of this week\n",
      "Thought:To perform a web search using DuckDuckGo, I can use their API to fetch the current trending movies. Here's an example code snippet:\n",
      "Action: Use DuckDuckGo Search\n",
      "Input: `https://api.duckduckgo.com/?q=top+trending+movies+this+week`\u001b[0m\n",
      "Observation: Invalid Format: Missing 'Action Input:' after 'Action:'\n",
      "Thought:\u001b[32;1m\u001b[1;3mQuestion: What are the top trending movies of this week\n",
      "Thought: To perform a web search using DuckDuckGo, I can use their API to fetch the current trending movies. Here's an example code snippet:\n",
      "Action: Use DuckDuckGo Search\n",
      "Input: `https://api.duckduckgo.com/?q=top+trending+movies+this+week`\u001b[0m\n",
      "Observation: Invalid Format: Missing 'Action Input:' after 'Action:'\n",
      "Thought:\u001b[32;1m\u001b[1;3mQuestion: What are the top trending movies of this week\n",
      "Thought:To perform a web search using DuckDuckGo, I can use their API to fetch the current trending movies. Here's an example code snippet:\n",
      "Action: Use DuckDuckGo Search\n",
      "Input: `https://api.duckduckgo.com/?q=top+trending+movies+this+week`\u001b[0m\n",
      "Observation: Invalid Format: Missing 'Action Input:' after 'Action:'\n",
      "Thought:\u001b[32;1m\u001b[1;3mQuestion: What are the top trending movies of this week\n",
      "Thought:To perform a web search using DuckDuckGo, I can use their API to fetch the current trending movies. Here's an example code snippet:\n",
      "Action: Use DuckDuckGo Search\n",
      "Input: `https://api.duckduckgo.com/?q=top+trending+movies+this+week`\u001b[0m\n",
      "Observation: Invalid Format: Missing 'Action Input:' after 'Action:'\n",
      "Thought:\u001b[32;1m\u001b[1;3mQuestion: What are the top trending movies of this week\n",
      "\n",
      "Thought:To perform a web search using DuckDuckGo, I can use their API to fetch the current trending movies. Here's an example code snippet:\n",
      "Action: Use DuckDuckGo Search\n",
      "Input: `https://api.duckduckgo.com/?q=top+trending+movies+this+week`\u001b[0m\n",
      "Observation: Invalid Format: Missing 'Action Input:' after 'Action:'\n",
      "Thought:\u001b[32;1m\u001b[1;3mQuestion: What are the top trending movies of this week\n",
      "\n",
      "Thought:To perform a web search using DuckDuckGo, I can use their API to fetch the current trending movies. Here's an example code snippet:\n",
      "Action: Use DuckDuckGo Search\n",
      "Input: `https://api.duckduckgo.com/?q=top+trending+movies+this+week`\u001b[0m\n",
      "Observation: Invalid Format: Missing 'Action Input:' after 'Action:'\n",
      "Thought:\u001b[32;1m\u001b[1;3mQuestion: What are the top trending movies of this week\n",
      "Thought:To perform a web search using DuckDuckGo, I can use their API to fetch the current trending movies. Here's an example code snippet:\n",
      "Action: Use DuckDuckGo Search\n",
      "Input: `https://api.duckduckgo.com/?q=top+trending+movies+this+week`\u001b[0m\n",
      "Observation: Invalid Format: Missing 'Action Input:' after 'Action:'\n",
      "Thought:\u001b[32;1m\u001b[1;3mQuestion: What are the top trending movies of this week\n",
      "Thought:To perform a web search using DuckDuckGo, I can use their API to fetch the current trending movies. Here's an example code snippet:\n",
      "Action: Use DuckDuckGo Search\n",
      "Input: `https://api.duckduckgo.com/?q=top+trending+movies+this+week`\u001b[0m\n",
      "Observation: Invalid Format: Missing 'Action Input:' after 'Action:'\n",
      "Thought:\u001b[32;1m\u001b[1;3mQuestion: What are the top trending movies of this week\n",
      "Thought:To perform a web search using DuckDuckGo, I can use their API to fetch the current trending movies. Here's an example code snippet:\n",
      "Action: Use DuckDuckGo Search\n",
      "Input: `https://api.duckduckgo.com/?q=top+trending+movies+this+week`\u001b[0m\n",
      "Observation: Invalid Format: Missing 'Action Input:' after 'Action:'\n",
      "Thought:\u001b[32;1m\u001b[1;3mQuestion: What are the top trending movies of this week\n",
      "Thought:To perform a web search using DuckDuckGo, I can use their API to fetch the current trending movies. Here's an example code snippet:\n",
      "Action: Use DuckDuckGo Search\n",
      "Input: `https://api.duckduckgo.com/?q=top+trending+movies+this+week`\u001b[0m\n",
      "Observation: Invalid Format: Missing 'Action Input:' after 'Action:'\n",
      "Thought:\u001b[32;1m\u001b[1;3m\u001b[0m\n",
      "\n",
      "\u001b[1m> Finished chain.\u001b[0m\n"
     ]
    }
   ],
   "source": [
    "response=agent.run('What are the top trending movies of this week')"
   ]
  },
  {
   "cell_type": "markdown",
   "metadata": {},
   "source": [
    "WikiPedia Search Agent"
   ]
  },
  {
   "cell_type": "code",
   "execution_count": 24,
   "metadata": {},
   "outputs": [],
   "source": [
    "from langchain_community.utilities.wikipedia import WikipediaAPIWrapper"
   ]
  },
  {
   "cell_type": "code",
   "execution_count": 25,
   "metadata": {},
   "outputs": [],
   "source": [
    "wikipedia_tool = Tool(\n",
    "    name=\"Wikipedia Search\",\n",
    "    func=WikipediaAPIWrapper().run,\n",
    "    description=\"Use this tool to search Wikipedia for information on any topic.\"\n",
    ")"
   ]
  },
  {
   "cell_type": "code",
   "execution_count": null,
   "metadata": {},
   "outputs": [
    {
     "name": "stdout",
     "output_type": "stream",
     "text": [
      "\n",
      "\n",
      "\u001b[1m> Entering new AgentExecutor chain...\u001b[0m\n",
      "\u001b[32;1m\u001b[1;3mQuestion: Who is Alan Turing, and what are his contributions?\u001b[0m\n",
      "Observation: Invalid Format: Missing 'Action:' after 'Thought:\n",
      "Thought:\u001b[32;1m\u001b[1;3mQuestion: Who is Alan Turing, and what are his contributions?\n",
      "Action: Wikipedia Search\n",
      "Action Input: Alan Turing\u001b[0m\n",
      "Observation: \u001b[36;1m\u001b[1;3mPage: Alan Turing\n",
      "Summary: Alan Mathison Turing (; 23 June 1912 – 7 June 1954) was an English mathematician, computer scientist, logician, cryptanalyst, philosopher and theoretical biologist. He was highly influential in the development of theoretical computer science, providing a formalisation of the concepts of algorithm and computation with the Turing machine, which can be considered a model of a general-purpose computer. Turing is widely considered to be the father of theoretical computer science.\n",
      "Born in London, Turing was raised in southern England. He graduated from King's College, Cambridge, and in 1938, earned a doctorate degree from Princeton University. During World War II, Turing worked for the Government Code and Cypher School at Bletchley Park, Britain's codebreaking centre that produced Ultra intelligence. He led Hut 8, the section responsible for German naval cryptanalysis. Turing devised techniques for speeding the breaking of German ciphers, including improvements to the pre-war Polish bomba method, an electromechanical machine that could find settings for the Enigma machine. He played a crucial role in cracking intercepted messages that enabled the Allies to defeat the Axis powers in many engagements, including the Battle of the Atlantic.\n",
      "After the war, Turing worked at the National Physical Laboratory, where he designed the Automatic Computing Engine, one of the first designs for a stored-program computer. In 1948, Turing joined Max Newman's Computing Machine Laboratory at the University of Manchester, where he contributed to the development of early Manchester computers and became interested in mathematical biology. Turing wrote on the chemical basis of morphogenesis and predicted oscillating chemical reactions such as the Belousov–Zhabotinsky reaction, first observed in the 1960s. Despite these accomplishments, he was never fully recognised during his lifetime because much of his work was covered by the Official Secrets Act.\n",
      "In 1952, Turing was prosecuted for homosexual acts. He accepted hormone treatment, a procedure commonly referred to as chemical castration, as an alternative to prison. Turing died on 7 June 1954, aged 41, from cyanide poisoning. An inquest determined his death as suicide, but the evidence is also consistent with accidental poisoning. \n",
      "Following a campaign in 2009, British prime minister Gordon Brown made an official public apology for \"the appalling way [Turing] was treated\". Queen Elizabeth II granted a pardon in 2013. The term \"Alan Turing law\" is used informally to refer to a 2017 law in the UK that retroactively pardoned men cautioned or convicted under historical legislation that outlawed homosexual acts.\n",
      "Turing left an extensive legacy in mathematics and computing which has become widely recognised with statues and many things named after him, including an annual award for computing innovation. His portrait appears on the Bank of England £50 note, first released on 23 June 2021 to coincide with his birthday. The audience vote in a 2019 BBC series named Turing the greatest person of the 20th century.\n",
      "\n",
      "Page: Turing Award\n",
      "Summary: The ACM A. M. Turing Award is an annual prize given by the Association for Computing Machinery (ACM) for contributions of lasting and major technical importance to computer science. It is generally recognized as the highest distinction in  the field of computer science and is often referred to as the \"Nobel Prize of Computing\".\n",
      "The award is named after Alan Turing, who was a British mathematician and reader in mathematics at the University of Manchester. Turing is often credited as being the founder of theoretical computer science and artificial intelligence, and a key contributor to the Allied cryptanalysis of the Enigma cipher during World War II. From 2007 to 2013, the award was accompanied by a prize of US$250,000, with financial support provided by Intel and Google. Since 2014, the award has been accompanied by a prize of US$1 million, with financia\u001b[0m\n",
      "Thought:\u001b[32;1m\u001b[1;3mQuestion: What are some of Alan Turing's contributions to computer science?\n",
      "Thought: \n",
      "Action: Wikipedia Search\n",
      "Action Input: Contributions\u001b[0m"
     ]
    },
    {
     "name": "stderr",
     "output_type": "stream",
     "text": [
      "c:\\Users\\Wasib\\miniconda3\\envs\\gen_ai\\lib\\site-packages\\wikipedia\\wikipedia.py:389: GuessedAtParserWarning: No parser was explicitly specified, so I'm using the best available HTML parser for this system (\"lxml\"). This usually isn't a problem, but if you run this code on another system, or in a different virtual environment, it may use a different parser and behave differently.\n",
      "\n",
      "The code that caused this warning is on line 389 of the file c:\\Users\\Wasib\\miniconda3\\envs\\gen_ai\\lib\\site-packages\\wikipedia\\wikipedia.py. To get rid of this warning, pass the additional argument 'features=\"lxml\"' to the BeautifulSoup constructor.\n",
      "\n",
      "  lis = BeautifulSoup(html).find_all('li')\n"
     ]
    },
    {
     "name": "stdout",
     "output_type": "stream",
     "text": [
      "\n",
      "Observation: \u001b[36;1m\u001b[1;3mPage: Benjamin Franklin\n",
      "Summary: Benjamin Franklin (January 17, 1706 [O.S. January 6, 1705] – April 17, 1790) was an American polymath: a writer, scientist, inventor, statesman, diplomat, printer, publisher and political philosopher. Among the most influential intellectuals of his time, Franklin was one of the Founding Fathers of the United States; a drafter and signer of the Declaration of Independence; and the first postmaster general.\n",
      "Born in the Province of Massachusetts Bay, Franklin became a successful newspaper editor and printer in Philadelphia, the leading city in the colonies, publishing The Pennsylvania Gazette at age 23. He became wealthy publishing this and Poor Richard's Almanack, which he wrote under the pseudonym \"Richard Saunders\". After 1767, he was associated with the Pennsylvania Chronicle, a newspaper known for its revolutionary sentiments and criticisms of the policies of the British Parliament and the Crown. He pioneered and was the first president of the Academy and College of Philadelphia, which opened in 1751 and later became the University of Pennsylvania. He organized and was the first secretary of the American Philosophical Society and was elected its president in 1769. He was appointed deputy postmaster-general for the British colonies in 1753, which enabled him to set up the first national communications network.\n",
      "Franklin was active in community affairs and colonial and state politics, as well as national and international affairs. He became a hero in America when, as an agent in London for several colonies, he spearheaded the repeal of the unpopular Stamp Act by the British Parliament. An accomplished diplomat, he was widely admired as the first U.S. ambassador to France and was a major figure in the development of positive Franco–American relations. His efforts proved vital in securing French aid for the American Revolution. From 1785 to 1788, he served as President of Pennsylvania. At some points in his life, he owned slaves and ran \"for sale\" ads for slaves in his newspaper, but by the late 1750s, he began arguing against slavery, became an active abolitionist, and promoted the education and integration of African Americans into U.S. society.\n",
      "As a scientist, Franklin's studies of electricity made him a major figure in the American Enlightenment and the history of physics. He also charted and named the Gulf Stream current. His numerous important inventions include the lightning rod, bifocals, glass harmonica and the Franklin stove. He founded many civic organizations, including the Library Company, Philadelphia's first fire department, and the University of Pennsylvania.\n",
      "Franklin earned the title of \"The First American\" for his early and indefatigable campaigning for colonial unity. He was the only person to sign the Declaration of Independence, Treaty of Paris, peace with Britain and the  Constitution. Foundational in defining the American ethos, Franklin has been called \"the most accomplished American of his age and the most influential in inventing the type of society America would become\".\n",
      "Franklin's life and legacy of scientific and political achievement, and his status as one of America's most influential Founding Fathers, have seen him honored for more than two centuries after his death on the $100 bill and in the names of warships, many towns and counties, educational institutions and corporations, as well as in numerous cultural references and a portrait in the Oval Office. His more than 30,000 letters and documents have been collected in The Papers of Benjamin Franklin. Anne Robert Jacques Turgot said of him: \"Eripuit fulmen cœlo, mox sceptra tyrannis\" (\"He snatched lightning from the sky and the scepter from tyrants\").\n",
      "\n",
      "Page: Contribution margin\n",
      "Summary: Contribution margin (CM), or dollar contribution per unit, is the selling price per unit minus the variable cost per unit. \"Contribution\" represents the portion of sales revenue that is not consumed by variable costs and so contribu\u001b[0m\n",
      "Thought:\u001b[32;1m\u001b[1;3mQuestion: What are some of Alan Turing's contributions to computer science?\n",
      "Action: Wikipedia Search\n",
      "Action Input: Contributions\u001b[0m"
     ]
    }
   ],
   "source": [
    "tools = [wikipedia_tool]\n",
    "\n",
    "agent = initialize_agent(\n",
    "    tools=tools,\n",
    "    llm=llm,\n",
    "    agent=\"zero-shot-react-description\",\n",
    "    verbose=True,handle_parsing_errors=True\n",
    ")\n",
    "\n",
    "query = \"Who is Alan Turing, and what are his contributions?\"\n",
    "response = agent.run(query)\n",
    "print(\"Response from Agent:\")\n",
    "print(response)"
   ]
  },
  {
   "cell_type": "markdown",
   "metadata": {},
   "source": [
    "Read Text File Tool"
   ]
  },
  {
   "cell_type": "code",
   "execution_count": 6,
   "metadata": {},
   "outputs": [
    {
     "name": "stdout",
     "output_type": "stream",
     "text": [
      "\n",
      "\n",
      "\u001b[1m> Entering new AgentExecutor chain...\u001b[0m\n",
      "\u001b[32;1m\u001b[1;3mQuestion: Read the content of the file named C:\\Users\\Wasib\\Desktop\\data science\\Generative AI\\AI Agents\\test.txt.\n",
      "\n",
      "Thought: I will use the 'Read File' tool to achieve this. The input to this action is the path to the text file. I will assume that the file is located in the current working directory.\u001b[0m\n",
      "Observation: Invalid Format: Missing 'Action:' after 'Thought:\n",
      "Thought:\u001b[32;1m\u001b[1;3mQuestion: Read the content of the file named C:\\Users\\Wasib\\Desktop\\data science\\Generative AI\\AI Agents\\test.txt.\n",
      "\n",
      "Thought: I will use the 'Read File' tool to achieve this. The input to this action is the path to the text file. I will assume that the file is located in the current working directory.\u001b[0m\n",
      "Observation: Invalid Format: Missing 'Action:' after 'Thought:\n",
      "Thought:\u001b[32;1m\u001b[1;3mQuestion: Read the content of the file named C:\\Users\\Wasib\\Desktop\\data science\\Generative AI\\AI Agents\\test.txt.\n",
      "\n",
      "Thought: I will use the 'Read File' tool to achieve this. The input to this action is the path to the text file. I will assume that the file is located in the current working directory.\u001b[0m\n",
      "Observation: Invalid Format: Missing 'Action:' after 'Thought:\n",
      "Thought:\u001b[32;1m\u001b[1;3mQuestion: Read the content of the file named C:\\Users\\Wasib\\Desktop\\data science\\Generative AI\\AI Agents\\test.txt.\n",
      "\n",
      "Thought: I will use the 'Read File' tool to achieve this. The input to this action is the path to the text file. I will assume that the file is located in the current working directory.\u001b[0m\n",
      "Observation: Invalid Format: Missing 'Action:' after 'Thought:\n",
      "Thought:\u001b[32;1m\u001b[1;3mQuestion: Read the content of the file named C:\\Users\\Wasib\\Desktop\\data science\\Generative AI\\AI Agents\\test.txt.\n",
      "\n",
      "Thought: I will use the 'Read File' tool to achieve this. The input to this action is the path to the text file. I will assume that the file is located in the current working directory.\u001b[0m\n",
      "Observation: Invalid Format: Missing 'Action:' after 'Thought:\n",
      "Thought:\u001b[32;1m\u001b[1;3mQuestion: Read the content of the file named C:\\Users\\Wasib\\Desktop\\data science\\Generative AI\\AI Agents\\test.txt.\n",
      "\n",
      "Thought: I will use the 'Read File' tool to achieve this. The input to this action is the path to the text file. I will assume that the file is located in the current working directory.\u001b[0m\n",
      "Observation: Invalid Format: Missing 'Action:' after 'Thought:\n",
      "Thought:\u001b[32;1m\u001b[1;3mQuestion: Read the content of the file named C:\\Users\\Wasib\\Desktop\\data science\\Generative AI\\AI Agents\\test.txt.\n",
      "\n",
      "Thought: I will use the 'Read File' tool to achieve this. The input to this action is the path to the text file. I will assume that the file is located in the current working directory.\u001b[0m\n",
      "Observation: Invalid Format: Missing 'Action:' after 'Thought:\n",
      "Thought:\u001b[32;1m\u001b[1;3mQuestion: Read the content of the file named C:\\Users\\Wasib\\Desktop\\data science\\Generative AI\\AI Agents\\test.txt.\n",
      "\n",
      "Thought: I will use the 'Read File' tool to achieve this. The input to this action is the path to the text file. I will assume that the file is located in the current working directory.\u001b[0m\n",
      "Observation: Invalid Format: Missing 'Action:' after 'Thought:\n",
      "Thought:\u001b[32;1m\u001b[1;3mQuestion: Read the content of the file named C:\\Users\\Wasib\\Desktop\\data science\\Generative AI\\AI Agents\\test.txt.\n",
      "\n",
      "Thought: I will use the 'Read File' tool to achieve this. The input to this action is the path to the text file. I will assume that the file is located in the current working directory.\u001b[0m\n",
      "Observation: Invalid Format: Missing 'Action:' after 'Thought:\n",
      "Thought:\u001b[32;1m\u001b[1;3mQuestion: Read the content of the file named C:\\Users\\Wasib\\Desktop\\data science\\Generative AI\\AI Agents\\test.txt.\n",
      "\n",
      "Thought: I will use the 'Read File' tool to achieve this. The input to this action is the path to the text file. I will assume that the file is located in the current working directory.\u001b[0m\n",
      "Observation: Invalid Format: Missing 'Action:' after 'Thought:\n",
      "Thought:\u001b[32;1m\u001b[1;3mQuestion: Read the content of the file named C:\\Users\\Wasib\\Desktop\\data science\\Generative AI\\AI Agents\\test.txt.\n",
      "\n",
      "Thought: I will use the 'Read File' tool to achieve this. The input to this action is the path to the text file. I will assume that the file is located in the current working directory.\u001b[0m\n",
      "Observation: Invalid Format: Missing 'Action:' after 'Thought:\n",
      "Thought:\u001b[32;1m\u001b[1;3mQuestion: Read the content of the file named C:\\Users\\Wasib\\Desktop\\data science\\Generative AI\\AI Agents\\test.txt.\n",
      "\n",
      "Thought: I will use the 'Read File' tool to achieve this. The input to this action is the path to the text file. I will assume that the file is located in the current working directory.\u001b[0m\n",
      "Observation: Invalid Format: Missing 'Action:' after 'Thought:\n",
      "Thought:\u001b[32;1m\u001b[1;3mQuestion: Read the content of the file named C:\\Users\\Wasib\\Desktop\\data science\\Generative AI\\AI Agents\\test.txt.\n",
      "\n",
      "Thought: I will use the 'Read File' tool to achieve this. The input to this action is the path to the text file. I will assume that the file is located in the current working directory.\u001b[0m\n",
      "Observation: Invalid Format: Missing 'Action:' after 'Thought:\n",
      "Thought:\u001b[32;1m\u001b[1;3mQuestion: Read the content of the file named C:\\Users\\Wasib\\Desktop\\data science\\Generative AI\\AI Agents\\test.txt.\n",
      "\n",
      "Thought: I will use the 'Read File' tool to achieve this. The input to this action is the path to the text file. I will assume that the file is located in the current working directory.\u001b[0m\n",
      "Observation: Invalid Format: Missing 'Action:' after 'Thought:\n",
      "Thought:\u001b[32;1m\u001b[1;3mQuestion: Read the content of the file named C:\\Users\\Wasib\\Desktop\\data science\\Generative AI\\AI Agents\\test.txt.\n",
      "\n",
      "Thought: I will use the 'Read File' tool to achieve this. The input to this action is the path to the text file. I will assume that the file is located in the current working directory.\u001b[0m\n",
      "Observation: Invalid Format: Missing 'Action:' after 'Thought:\n",
      "Thought:\u001b[32;1m\u001b[1;3m\u001b[0m\n",
      "\n",
      "\u001b[1m> Finished chain.\u001b[0m\n",
      "Response from Agent:\n",
      "Agent stopped due to iteration limit or time limit.\n"
     ]
    }
   ],
   "source": [
    "from langchain_community.tools.file_management import ReadFileTool\n",
    "from langchain.agents import initialize_agent, Tool\n",
    "\n",
    "\n",
    "# Step 1: Initialize the ReadFileTool\n",
    "read_file_tool = Tool(\n",
    "    name=\"Read File\",\n",
    "    func=ReadFileTool().run,\n",
    "    description=\"Use this tool to read the content of a text file in the current working directory. Provide the file name as input.\"\n",
    ")\n",
    "\n",
    "# # Step 2: Initialize the LLM\n",
    "from langchain_community.llms import Ollama\n",
    "## Load Ollama LAMA2 LLM model\n",
    "llm=Ollama(model=\"llama3.2:1b\")\n",
    "\n",
    "# Step 3: Combine the tool into a list\n",
    "tools = [read_file_tool]\n",
    "\n",
    "# Step 4: Initialize the Agent\n",
    "agent = initialize_agent(\n",
    "    tools=tools,\n",
    "    llm=llm,\n",
    "    agent=\"zero-shot-react-description\",\n",
    "    verbose=True,handle_parsing_errors=True\n",
    ")\n",
    "\n",
    "# Step 5: Query the Agent with a file name\n",
    "file_name = \"test.txt\"\n",
    "file_name=r\"C:\\Users\\Wasib\\Desktop\\data science\\Generative AI\\AI Agents\\test.txt\"\n",
    "\n",
    "response = agent.run(f\"Read the content of the file named {file_name}.\")\n",
    "print(\"Response from Agent:\")\n",
    "print(response)\n"
   ]
  }
 ],
 "metadata": {
  "kernelspec": {
   "display_name": "Python 3",
   "language": "python",
   "name": "python3"
  },
  "language_info": {
   "codemirror_mode": {
    "name": "ipython",
    "version": 3
   },
   "file_extension": ".py",
   "mimetype": "text/x-python",
   "name": "python",
   "nbconvert_exporter": "python",
   "pygments_lexer": "ipython3",
   "version": "3.10.16"
  }
 },
 "nbformat": 4,
 "nbformat_minor": 2
}
